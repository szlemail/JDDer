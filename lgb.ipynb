{
 "cells": [
  {
   "cell_type": "code",
   "execution_count": 40,
   "metadata": {
    "ExecuteTime": {
     "end_time": "2018-11-29T14:18:24.972223Z",
     "start_time": "2018-11-29T14:18:24.965226Z"
    }
   },
   "outputs": [],
   "source": [
    "import pandas as pd\n",
    "import numpy as np\n",
    "import scipy.sparse as sparse\n",
    "import matplotlib.pyplot as plt\n",
    "import lightgbm as lgb\n",
    "import datetime\n",
    "from sklearn.model_selection import train_test_split"
   ]
  },
  {
   "cell_type": "code",
   "execution_count": 41,
   "metadata": {
    "ExecuteTime": {
     "end_time": "2018-11-29T14:18:25.249064Z",
     "start_time": "2018-11-29T14:18:25.160120Z"
    }
   },
   "outputs": [],
   "source": [
    "flow = pd.read_csv(\"flow_train.csv\")\n",
    "# transition = pd.read_csv(\"transition_train.csv\")"
   ]
  },
  {
   "cell_type": "code",
   "execution_count": 42,
   "metadata": {
    "ExecuteTime": {
     "end_time": "2018-11-29T14:18:25.362000Z",
     "start_time": "2018-11-29T14:18:25.335015Z"
    }
   },
   "outputs": [],
   "source": [
    "districts = sorted(flow.district_code.unique())\n",
    "dates = sorted(flow.date_dt.unique())\n",
    "cities = sorted(flow.city_code.unique())\n",
    "d2c = dict(np.array((flow[[ 'district_code', 'city_code']].drop_duplicates())))\n",
    "def dateStrlist(year,month, day, lenth):\n",
    "    result = []\n",
    "    for i in range(lenth):\n",
    "        init_date = datetime.date(year, month, day)\n",
    "        _date = init_date + datetime.timedelta(days=i)\n",
    "        result.append(_date.strftime('%Y%m%d'))\n",
    "    return result"
   ]
  },
  {
   "cell_type": "code",
   "execution_count": 43,
   "metadata": {
    "ExecuteTime": {
     "end_time": "2018-11-29T14:18:26.246511Z",
     "start_time": "2018-11-29T14:18:25.520910Z"
    }
   },
   "outputs": [],
   "source": [
    "trans = flow.copy()\n",
    "trans['date_dt'] = trans['date_dt'].apply(lambda x: dates.index(x))\n",
    "trans['district_code'] = trans['district_code'].apply(lambda x: districts.index(x))\n",
    "trans['city_code'] = trans['city_code'].apply(lambda x: cities.index(x))"
   ]
  },
  {
   "cell_type": "code",
   "execution_count": 44,
   "metadata": {
    "ExecuteTime": {
     "end_time": "2018-11-29T14:18:35.535243Z",
     "start_time": "2018-11-29T14:18:26.248494Z"
    }
   },
   "outputs": [],
   "source": [
    "df = pd.DataFrame()\n",
    "for d in range(len(districts)):\n",
    "    dwell = np.log(np.array(trans[trans.district_code == d].sort_values(by = 'date_dt')['dwell'] + 1))\n",
    "    flow_in = np.log(np.array(trans[trans.district_code == d].sort_values(by = 'date_dt')['flow_in'] + 1))\n",
    "    flow_out = np.log(np.array(trans[trans.district_code == d].sort_values(by = 'date_dt')['flow_out'] + 1))\n",
    "    df['dwell%d_b0'%d] = dwell\n",
    "    df['flow_in%d_b0'%d] = flow_in\n",
    "    df['flow_out%d_b0'%d] = flow_out\n",
    "    for i in range(1, 30):\n",
    "        df['dwell%d_b%d'%(d, i)]  = [*np.zeros(i), *dwell[:-i]]\n",
    "        df['flow_in%d_b%d'%(d, i)]  = [*np.zeros(i), *flow_in[:-i]]\n",
    "        df['flow_out%d_b%d'%(d, i)]  = [*np.zeros(i), *flow_out[:-i]]"
   ]
  },
  {
   "cell_type": "code",
   "execution_count": 45,
   "metadata": {
    "ExecuteTime": {
     "end_time": "2018-11-29T14:18:35.564190Z",
     "start_time": "2018-11-29T14:18:35.537203Z"
    }
   },
   "outputs": [],
   "source": [
    "for i in range(7):\n",
    "    df[\"w%d\"%i] = np.array(np.array(range(len(df)))%7 == i).astype(np.int8)\n",
    "    \n",
    "df[\"md\"] = np.array(np.array(range(len(df)))%30)\n",
    "df[\"mm\"] = np.array(np.array(range(len(df)))//30)"
   ]
  },
  {
   "cell_type": "code",
   "execution_count": 122,
   "metadata": {
    "ExecuteTime": {
     "end_time": "2018-11-29T15:49:50.169646Z",
     "start_time": "2018-11-29T15:49:50.152656Z"
    }
   },
   "outputs": [],
   "source": [
    "def featureExtractor(fe, dist, col):\n",
    "    nfe = pd.DataFrame()\n",
    "    for j in range(1, 30):\n",
    "        copy_col = \"%s%d_b%d\"%(col, dist, j)\n",
    "        nfe[copy_col] = fe[copy_col]\n",
    "        # 一阶差分\n",
    "        if j > 0:\n",
    "            nfe[\"delt%d_%d\"%(j-1, j)] = fe['%s%d_b%d'%(col, dist, j-1)] - fe['%s%d_b%d'%(col, dist, j)]\n",
    "        \n",
    "        # 二阶差分\n",
    "        if j > 1:\n",
    "            nfe[\"delt%d_%d\"%(j-2, j)] = fe['%s%d_b%d'%(col, dist, j-2)] + fe['%s%d_b%d'%(col, dist, j)] - 2*fe['%s%d_b%d'%(col, dist, j-1)]\n",
    "        \n",
    "        # 三阶差分\n",
    "        if j > 2:\n",
    "            nfe[\"delt%d_%d\"%(j-3, j)] = fe['%s%d_b%d'%(col, dist, j-3)] - 3*fe['%s%d_b%d'%(col, dist, j-2)] + 3*fe['%s%d_b%d'%(col, dist, j-1)] - fe['%s%d_b%d'%(col, dist, j)]\n",
    "    \n",
    "    # 统计特征\n",
    "    for span in [3,7,15,30]:\n",
    "        columns = ['%s%d_b%d'%(col, dist, j) for j in range(span)]\n",
    "        nfe[\"max%d\"%span] = fe[columns].max(axis = 1)\n",
    "        nfe[\"min%d\"%span] = fe[columns].min(axis = 1)\n",
    "        nfe[\"mean%d\"%span] = fe[columns].mean(axis = 1)\n",
    "        nfe[\"std%d\"%span] = fe[columns].std(axis = 1)\n",
    "    \n",
    "    \n",
    "    for i in range(7):\n",
    "        nfe[\"w%d\"%i] = fe[\"w%d\"%i]\n",
    "            \n",
    "    for i in range(98):\n",
    "        nfe[\"%s%d_b0\"%(col, i)] = fe[\"%s%d_b0\"%(col, i)]\n",
    "        \n",
    "    nfe['md'] = fe['md']\n",
    "    nfe['mm'] = fe['mm']\n",
    "\n",
    "    return nfe"
   ]
  },
  {
   "cell_type": "markdown",
   "metadata": {},
   "source": [
    "# 分别建模预测"
   ]
  },
  {
   "cell_type": "code",
   "execution_count": null,
   "metadata": {
    "ExecuteTime": {
     "start_time": "2018-11-29T15:49:29.049Z"
    }
   },
   "outputs": [
    {
     "name": "stdout",
     "output_type": "stream",
     "text": [
      "..................................................................................................\n",
      " 15\n",
      "....................................................................."
     ]
    }
   ],
   "source": [
    "# 这里我们先拿前30天的数据 分别预测 1-15天后的数据。\n",
    "# 后续可以尝试 今日预测1天后的，和2天谴预测2天后的，以此类推。多日模型进行融合。\n",
    "\n",
    "for col in ['dwell', 'flow_in', 'flow_out']:\n",
    "    dataDf = pd.DataFrame()\n",
    "    for d in range(len(districts)):\n",
    "        for span in range(1,16):\n",
    "            start_index = 30\n",
    "            predict_span = span\n",
    "            label = df[\"%s%d_b0\"%(col,d)][start_index + predict_span:]\n",
    "            feature = df[start_index:-predict_span]\n",
    "            feature = featureExtractor(feature, d, col)\n",
    "            feature['y'] = label.tolist()\n",
    "            test_x = featureExtractor(df[-1:], d, col)\n",
    "            test_x['y'] = -1\n",
    "            colDf = feature.append(test_x)\n",
    "            colDf['district'] = districts[d]\n",
    "            colDf['city'] = d2c[districts[d]]\n",
    "            colDf['span'] = span\n",
    "            dataDf = dataDf.append(colDf)\n",
    "        print(end = \".\")\n",
    "    dataDf.to_csv(\"%s.csv\"%col, index = None)\n",
    "    print(\"\\n\", span)"
   ]
  },
  {
   "cell_type": "code",
   "execution_count": null,
   "metadata": {
    "ExecuteTime": {
     "start_time": "2018-11-29T15:51:32.553Z"
    }
   },
   "outputs": [],
   "source": [
    "predicts = None\n",
    "scores = []\n",
    "for col in ['dwell', 'flow_in', 'flow_out']:\n",
    "    tdf = pd.read_csv(\"%s.csv\"%col)\n",
    "    tdf['city'] = tdf['city'].astype(\"category\")\n",
    "    tdf['district'] = tdf['district'].astype(\"category\")\n",
    "    train = tdf[tdf.y != -1]\n",
    "    test = tdf[tdf.y == -1]\n",
    "    feature = train.drop(['y'], axis = 1)\n",
    "    label = train['y']\n",
    "    test_x = test.drop(['y'], axis = 1)\n",
    "    train_x, eval_x, train_y, eval_y = train_test_split(feature, label, test_size = 0.2)\n",
    "    if col != 'dwell':\n",
    "        train_x2 = train_x.copy()\n",
    "        augRatio = (np.random.random(len(train_y)) - 0.5)/50 + 1\n",
    "        train_y2 = train_y*augRatio\n",
    "        train_x = train_x.append(train_x2)\n",
    "        train_y = train_y.append(train_y2)\n",
    "    lgbr = lgb.LGBMRegressor(n_jobs = -1, learning_rate = 0.05, num_leaves = 33, subsample = 0.93, random_state = 2018, n_estimators = 1000, colsample_bytree = 0.63, min_child_samples = 20, objective =\"regression\")\n",
    "    lgbr.fit(train_x, train_y, eval_set = (eval_x, eval_y), early_stopping_rounds = 20, verbose  = False, eval_metric = 'rmse')\n",
    "    pred = lgbr.predict(eval_x)\n",
    "    print(col, np.sqrt(np.mean(np.square(pred - eval_y))), end = '\\t')\n",
    "    scores.append(np.mean(np.square(pred - eval_y)))\n",
    "    cols = ['span', 'city', 'district']\n",
    "    test_x = test_x.sort_values(by = cols)\n",
    "    pred = np.exp(lgbr.predict(test_x))-1\n",
    "    if predicts is None:\n",
    "        predicts = test_x[cols].copy()\n",
    "        predicts[col] = pred\n",
    "    else:\n",
    "        predicts[col] = pred\n",
    "        \n",
    "datelist = dateStrlist(2018,3, 2, 15)\n",
    "predicts['date_dt'] = predicts['span'].apply(lambda x: datelist[x-1])\n",
    "predicts[['date_dt', 'city', 'district', 'dwell', 'flow_in', 'flow_out']].to_csv(\"lgb_predict.csv\", index=None, header = None)\n",
    "print(np.sqrt(np.mean(scores)))"
   ]
  },
  {
   "cell_type": "code",
   "execution_count": 119,
   "metadata": {
    "ExecuteTime": {
     "end_time": "2018-11-29T15:45:15.111856Z",
     "start_time": "2018-11-29T15:45:15.106859Z"
    }
   },
   "outputs": [],
   "source": [
    "#dwell 0.1119909081030038\tflow_in 0.15038583129884533\tflow_out 0.1491799408818829\t0.13833837321907744"
   ]
  },
  {
   "cell_type": "code",
   "execution_count": 120,
   "metadata": {
    "ExecuteTime": {
     "end_time": "2018-11-29T15:45:18.275054Z",
     "start_time": "2018-11-29T15:45:18.269058Z"
    }
   },
   "outputs": [
    {
     "name": "stdout",
     "output_type": "stream",
     "text": [
      "0.13833837321907744\n"
     ]
    }
   ],
   "source": [
    "print(np.sqrt(np.mean(scores)))"
   ]
  },
  {
   "cell_type": "code",
   "execution_count": 116,
   "metadata": {
    "ExecuteTime": {
     "end_time": "2018-11-29T15:40:30.510986Z",
     "start_time": "2018-11-29T15:40:30.504994Z"
    }
   },
   "outputs": [
    {
     "data": {
      "text/plain": [
       "array([0.        , 1.00958916, 1.98071799, 3.01505825, 3.96792011,\n",
       "       4.9501849 , 6.02715563, 7.02068294, 8.02263351, 9.08733375])"
      ]
     },
     "execution_count": 116,
     "metadata": {},
     "output_type": "execute_result"
    }
   ],
   "source": [
    "a = (np.random.random(10) - 0.5)/50 + 1\n",
    "b = np.arange(10)\n",
    "c = a*b\n",
    "c"
   ]
  },
  {
   "cell_type": "code",
   "execution_count": 54,
   "metadata": {
    "ExecuteTime": {
     "end_time": "2018-11-28T13:26:20.547755Z",
     "start_time": "2018-11-28T13:26:20.496786Z"
    }
   },
   "outputs": [],
   "source": [
    "pred_df = pd.DataFrame(pred_result)\n",
    "datelist = dateStrlist(2018,3, 2, 15)\n",
    "pred_df.columns = ['date_dt', 'district', 'dwell', 'flow_in', 'flow_out']\n",
    "pred_df['date_dt'] = pred_df['date_dt'].apply(lambda x: datelist[x-1])\n",
    "pred_df['district'] = pred_df['district'].apply(lambda x: districts[x])\n",
    "pred_df['city'] = pred_df.district.apply(lambda x: d2c[x])\n",
    "pred_df['dwell'] = pred_df.dwell.apply(lambda x: np.exp(x)-1)\n",
    "pred_df['flow_in'] = pred_df.flow_in.apply(lambda x: np.exp(x)-1)\n",
    "pred_df['flow_out'] = pred_df.flow_out.apply(lambda x: np.exp(x)-1)\n",
    "save_df = pred_df[['date_dt', 'city', 'district', 'dwell', 'flow_in', 'flow_out']]\n",
    "save_df.to_csv(\"predict112703.csv\", header = None, index = None)"
   ]
  },
  {
   "cell_type": "code",
   "execution_count": 89,
   "metadata": {
    "ExecuteTime": {
     "end_time": "2018-11-28T13:49:00.114754Z",
     "start_time": "2018-11-28T13:49:00.057787Z"
    }
   },
   "outputs": [],
   "source": [
    "lgbdf = pd.read_csv(\"predict112703.csv\", header = None)\n",
    "arimadf = pd.read_csv(\"prediction1.csv\", header = None)\n",
    "arimadf.columns = ['date_dt', 'city', 'district', 'dwell', 'flow_in', 'flow_out']\n",
    "lgbdf.columns = ['date_dt', 'city', 'district', 'dwell', 'flow_in', 'flow_out']\n",
    "mdf = pd.merge(lgbdf, arimadf, how='left', on = ['date_dt', 'city', 'district'])\n",
    "mdf['dwell'] = mdf[['dwell_x', 'dwell_y']].mean(axis = 1)\n",
    "mdf['flow_in'] = mdf[['flow_in_x', 'flow_in_y']].mean(axis = 1)\n",
    "mdf['flow_out'] = mdf[['flow_out_x', 'flow_out_y']].mean(axis = 1)\n",
    "mdf[['date_dt', 'city', 'district', 'dwell', 'flow_in', 'flow_out']].to_csv(\"merge112703.csv\", header = None, index = None)"
   ]
  },
  {
   "cell_type": "code",
   "execution_count": 109,
   "metadata": {
    "ExecuteTime": {
     "end_time": "2018-11-28T13:57:16.270084Z",
     "start_time": "2018-11-28T13:57:16.135097Z"
    }
   },
   "outputs": [
    {
     "data": {
      "image/png": "[encoded data removed]",
      "text/plain": [
       "<Figure size 432x288 with 1 Axes>"
      ]
     },
     "metadata": {},
     "output_type": "display_data"
    }
   ],
   "source": [
    "district = districts[i]\n",
    "plt.plot(mdf[mdf.district == district]['dwell_x'])\n",
    "plt.plot(mdf[mdf.district == district]['dwell_y'])\n",
    "plt.plot(mdf[mdf.district == district]['dwell'])\n",
    "i = (i + 1)%98"
   ]
  }
 ],
 "metadata": {
  "kernelspec": {
   "display_name": "Python 3",
   "language": "python",
   "name": "python3"
  },
  "language_info": {
   "codemirror_mode": {
    "name": "ipython",
    "version": 3
   },
   "file_extension": ".py",
   "mimetype": "text/x-python",
   "name": "python",
   "nbconvert_exporter": "python",
   "pygments_lexer": "ipython3",
   "version": "3.5.5"
  },
  "toc": {
   "base_numbering": 1,
   "nav_menu": {},
   "number_sections": true,
   "sideBar": true,
   "skip_h1_title": false,
   "title_cell": "Table of Contents",
   "title_sidebar": "Contents",
   "toc_cell": false,
   "toc_position": {},
   "toc_section_display": true,
   "toc_window_display": true
  }
 },
 "nbformat": 4,
 "nbformat_minor": 2
}
